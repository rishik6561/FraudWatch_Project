{
 "cells": [
  {
   "cell_type": "code",
   "execution_count": 1,
   "id": "875261f9",
   "metadata": {},
   "outputs": [],
   "source": [
    "import pandas as pd\n",
    "from sklearn.ensemble import RandomForestClassifier\n",
    "from sklearn.model_selection import train_test_split\n",
    "from sklearn.preprocessing import StandardScaler\n",
    "from sklearn.feature_selection import SelectFromModel\n",
    "from sklearn.metrics import accuracy_score, confusion_matrix\n",
    "import matplotlib.pyplot as plt\n",
    "from sklearn.decomposition import PCA\n",
    "import scipy.stats as stats\n",
    "import seaborn as sns\n",
    "from sklearn.neighbors import KNeighborsClassifier\n",
    "from sklearn.svm import OneClassSVM\n",
    "from sklearn.pipeline import Pipeline\n",
    "from sklearn.compose import ColumnTransformer\n",
    "import numpy as np\n",
    "from sklearn.ensemble import IsolationForest\n",
    "from sklearn.datasets import make_classification"
   ]
  },
  {
   "cell_type": "code",
   "execution_count": 2,
   "id": "783f1afc",
   "metadata": {},
   "outputs": [
    {
     "data": {
      "text/html": [
       "<div>\n",
       "<style scoped>\n",
       "    .dataframe tbody tr th:only-of-type {\n",
       "        vertical-align: middle;\n",
       "    }\n",
       "\n",
       "    .dataframe tbody tr th {\n",
       "        vertical-align: top;\n",
       "    }\n",
       "\n",
       "    .dataframe thead th {\n",
       "        text-align: right;\n",
       "    }\n",
       "</style>\n",
       "<table border=\"1\" class=\"dataframe\">\n",
       "  <thead>\n",
       "    <tr style=\"text-align: right;\">\n",
       "      <th></th>\n",
       "      <th>V1</th>\n",
       "      <th>V2</th>\n",
       "      <th>V3</th>\n",
       "      <th>V4</th>\n",
       "      <th>V5</th>\n",
       "      <th>V6</th>\n",
       "      <th>V7</th>\n",
       "      <th>V8</th>\n",
       "      <th>V9</th>\n",
       "      <th>V10</th>\n",
       "      <th>...</th>\n",
       "      <th>V21</th>\n",
       "      <th>V22</th>\n",
       "      <th>V23</th>\n",
       "      <th>V24</th>\n",
       "      <th>V25</th>\n",
       "      <th>V26</th>\n",
       "      <th>V27</th>\n",
       "      <th>V28</th>\n",
       "      <th>Amount</th>\n",
       "      <th>Class</th>\n",
       "    </tr>\n",
       "    <tr>\n",
       "      <th>id</th>\n",
       "      <th></th>\n",
       "      <th></th>\n",
       "      <th></th>\n",
       "      <th></th>\n",
       "      <th></th>\n",
       "      <th></th>\n",
       "      <th></th>\n",
       "      <th></th>\n",
       "      <th></th>\n",
       "      <th></th>\n",
       "      <th></th>\n",
       "      <th></th>\n",
       "      <th></th>\n",
       "      <th></th>\n",
       "      <th></th>\n",
       "      <th></th>\n",
       "      <th></th>\n",
       "      <th></th>\n",
       "      <th></th>\n",
       "      <th></th>\n",
       "      <th></th>\n",
       "    </tr>\n",
       "  </thead>\n",
       "  <tbody>\n",
       "    <tr>\n",
       "      <th>0</th>\n",
       "      <td>-0.260648</td>\n",
       "      <td>-0.469648</td>\n",
       "      <td>2.496266</td>\n",
       "      <td>-0.083724</td>\n",
       "      <td>0.129681</td>\n",
       "      <td>0.732898</td>\n",
       "      <td>0.519014</td>\n",
       "      <td>-0.130006</td>\n",
       "      <td>0.727159</td>\n",
       "      <td>0.637735</td>\n",
       "      <td>...</td>\n",
       "      <td>-0.110552</td>\n",
       "      <td>0.217606</td>\n",
       "      <td>-0.134794</td>\n",
       "      <td>0.165959</td>\n",
       "      <td>0.126280</td>\n",
       "      <td>-0.434824</td>\n",
       "      <td>-0.081230</td>\n",
       "      <td>-0.151045</td>\n",
       "      <td>17982.10</td>\n",
       "      <td>0</td>\n",
       "    </tr>\n",
       "    <tr>\n",
       "      <th>1</th>\n",
       "      <td>0.985100</td>\n",
       "      <td>-0.356045</td>\n",
       "      <td>0.558056</td>\n",
       "      <td>-0.429654</td>\n",
       "      <td>0.277140</td>\n",
       "      <td>0.428605</td>\n",
       "      <td>0.406466</td>\n",
       "      <td>-0.133118</td>\n",
       "      <td>0.347452</td>\n",
       "      <td>0.529808</td>\n",
       "      <td>...</td>\n",
       "      <td>-0.194936</td>\n",
       "      <td>-0.605761</td>\n",
       "      <td>0.079469</td>\n",
       "      <td>-0.577395</td>\n",
       "      <td>0.190090</td>\n",
       "      <td>0.296503</td>\n",
       "      <td>-0.248052</td>\n",
       "      <td>-0.064512</td>\n",
       "      <td>6531.37</td>\n",
       "      <td>0</td>\n",
       "    </tr>\n",
       "    <tr>\n",
       "      <th>2</th>\n",
       "      <td>-0.260272</td>\n",
       "      <td>-0.949385</td>\n",
       "      <td>1.728538</td>\n",
       "      <td>-0.457986</td>\n",
       "      <td>0.074062</td>\n",
       "      <td>1.419481</td>\n",
       "      <td>0.743511</td>\n",
       "      <td>-0.095576</td>\n",
       "      <td>-0.261297</td>\n",
       "      <td>0.690708</td>\n",
       "      <td>...</td>\n",
       "      <td>-0.005020</td>\n",
       "      <td>0.702906</td>\n",
       "      <td>0.945045</td>\n",
       "      <td>-1.154666</td>\n",
       "      <td>-0.605564</td>\n",
       "      <td>-0.312895</td>\n",
       "      <td>-0.300258</td>\n",
       "      <td>-0.244718</td>\n",
       "      <td>2513.54</td>\n",
       "      <td>0</td>\n",
       "    </tr>\n",
       "    <tr>\n",
       "      <th>3</th>\n",
       "      <td>-0.152152</td>\n",
       "      <td>-0.508959</td>\n",
       "      <td>1.746840</td>\n",
       "      <td>-1.090178</td>\n",
       "      <td>0.249486</td>\n",
       "      <td>1.143312</td>\n",
       "      <td>0.518269</td>\n",
       "      <td>-0.065130</td>\n",
       "      <td>-0.205698</td>\n",
       "      <td>0.575231</td>\n",
       "      <td>...</td>\n",
       "      <td>-0.146927</td>\n",
       "      <td>-0.038212</td>\n",
       "      <td>-0.214048</td>\n",
       "      <td>-1.893131</td>\n",
       "      <td>1.003963</td>\n",
       "      <td>-0.515950</td>\n",
       "      <td>-0.165316</td>\n",
       "      <td>0.048424</td>\n",
       "      <td>5384.44</td>\n",
       "      <td>0</td>\n",
       "    </tr>\n",
       "    <tr>\n",
       "      <th>4</th>\n",
       "      <td>-0.206820</td>\n",
       "      <td>-0.165280</td>\n",
       "      <td>1.527053</td>\n",
       "      <td>-0.448293</td>\n",
       "      <td>0.106125</td>\n",
       "      <td>0.530549</td>\n",
       "      <td>0.658849</td>\n",
       "      <td>-0.212660</td>\n",
       "      <td>1.049921</td>\n",
       "      <td>0.968046</td>\n",
       "      <td>...</td>\n",
       "      <td>-0.106984</td>\n",
       "      <td>0.729727</td>\n",
       "      <td>-0.161666</td>\n",
       "      <td>0.312561</td>\n",
       "      <td>-0.414116</td>\n",
       "      <td>1.071126</td>\n",
       "      <td>0.023712</td>\n",
       "      <td>0.419117</td>\n",
       "      <td>14278.97</td>\n",
       "      <td>0</td>\n",
       "    </tr>\n",
       "  </tbody>\n",
       "</table>\n",
       "<p>5 rows × 30 columns</p>\n",
       "</div>"
      ],
      "text/plain": [
       "          V1        V2        V3        V4        V5        V6        V7  \\\n",
       "id                                                                         \n",
       "0  -0.260648 -0.469648  2.496266 -0.083724  0.129681  0.732898  0.519014   \n",
       "1   0.985100 -0.356045  0.558056 -0.429654  0.277140  0.428605  0.406466   \n",
       "2  -0.260272 -0.949385  1.728538 -0.457986  0.074062  1.419481  0.743511   \n",
       "3  -0.152152 -0.508959  1.746840 -1.090178  0.249486  1.143312  0.518269   \n",
       "4  -0.206820 -0.165280  1.527053 -0.448293  0.106125  0.530549  0.658849   \n",
       "\n",
       "          V8        V9       V10  ...       V21       V22       V23       V24  \\\n",
       "id                                ...                                           \n",
       "0  -0.130006  0.727159  0.637735  ... -0.110552  0.217606 -0.134794  0.165959   \n",
       "1  -0.133118  0.347452  0.529808  ... -0.194936 -0.605761  0.079469 -0.577395   \n",
       "2  -0.095576 -0.261297  0.690708  ... -0.005020  0.702906  0.945045 -1.154666   \n",
       "3  -0.065130 -0.205698  0.575231  ... -0.146927 -0.038212 -0.214048 -1.893131   \n",
       "4  -0.212660  1.049921  0.968046  ... -0.106984  0.729727 -0.161666  0.312561   \n",
       "\n",
       "         V25       V26       V27       V28    Amount  Class  \n",
       "id                                                           \n",
       "0   0.126280 -0.434824 -0.081230 -0.151045  17982.10      0  \n",
       "1   0.190090  0.296503 -0.248052 -0.064512   6531.37      0  \n",
       "2  -0.605564 -0.312895 -0.300258 -0.244718   2513.54      0  \n",
       "3   1.003963 -0.515950 -0.165316  0.048424   5384.44      0  \n",
       "4  -0.414116  1.071126  0.023712  0.419117  14278.97      0  \n",
       "\n",
       "[5 rows x 30 columns]"
      ]
     },
     "execution_count": 2,
     "metadata": {},
     "output_type": "execute_result"
    }
   ],
   "source": [
    "credit_data = pd.read_csv('creditcard_2023.csv',index_col=\"id\")\n",
    "credit_data.head()"
   ]
  },
  {
   "cell_type": "markdown",
   "id": "ccbb0f4c",
   "metadata": {},
   "source": [
    "### Null Values Check"
   ]
  },
  {
   "cell_type": "code",
   "execution_count": 3,
   "id": "de664dc5",
   "metadata": {},
   "outputs": [
    {
     "data": {
      "text/plain": [
       "V1        0\n",
       "V2        0\n",
       "V3        0\n",
       "V4        0\n",
       "V5        0\n",
       "V6        0\n",
       "V7        0\n",
       "V8        0\n",
       "V9        0\n",
       "V10       0\n",
       "V11       0\n",
       "V12       0\n",
       "V13       0\n",
       "V14       0\n",
       "V15       0\n",
       "V16       0\n",
       "V17       0\n",
       "V18       0\n",
       "V19       0\n",
       "V20       0\n",
       "V21       0\n",
       "V22       0\n",
       "V23       0\n",
       "V24       0\n",
       "V25       0\n",
       "V26       0\n",
       "V27       0\n",
       "V28       0\n",
       "Amount    0\n",
       "Class     0\n",
       "dtype: int64"
      ]
     },
     "execution_count": 3,
     "metadata": {},
     "output_type": "execute_result"
    }
   ],
   "source": [
    "credit_data.isna().sum()"
   ]
  },
  {
   "cell_type": "markdown",
   "id": "22952825",
   "metadata": {},
   "source": [
    "### Class Balance Check"
   ]
  },
  {
   "cell_type": "code",
   "execution_count": 4,
   "id": "899e7a53",
   "metadata": {},
   "outputs": [
    {
     "data": {
      "image/png": "[encoded data removed]",
      "text/plain": [
       "<Figure size 800x600 with 1 Axes>"
      ]
     },
     "metadata": {},
     "output_type": "display_data"
    }
   ],
   "source": [
    "class_counts = credit_data['Class'].value_counts()\n",
    "plt.figure(figsize=(8, 6))\n",
    "class_counts.plot(kind='bar', color=['orange', 'green'])\n",
    "plt.title('Distribution of Classes')\n",
    "plt.xlabel('Class')\n",
    "plt.ylabel('Count')\n",
    "plt.xticks(rotation=0)\n",
    "plt.show()"
   ]
  },
  {
   "cell_type": "markdown",
   "id": "0e927752",
   "metadata": {},
   "source": [
    "### Metrics Utility Function"
   ]
  },
  {
   "cell_type": "code",
   "execution_count": 5,
   "id": "8aff558e",
   "metadata": {},
   "outputs": [],
   "source": [
    "from sklearn.metrics import f1_score,precision_score,confusion_matrix,accuracy_score\n",
    "def get_metrics(y_test,y_pred):\n",
    "    print(\"Test Accuracy: \", accuracy_score(y_test, y_pred))\n",
    "    print(\"Precision: \",precision_score(y_test, y_pred))\n",
    "    print(\"F1 Score: \",f1_score(y_test, y_pred))\n",
    "    print(\"Confusion Matrix: \",confusion_matrix(y_test, y_pred))"
   ]
  },
  {
   "cell_type": "markdown",
   "id": "ff6ac196",
   "metadata": {},
   "source": [
    "### Train-Test Split"
   ]
  },
  {
   "cell_type": "code",
   "execution_count": 9,
   "id": "a2fe76fc",
   "metadata": {},
   "outputs": [],
   "source": [
    "X = credit_data.drop('Class', axis=1)\n",
    "y = credit_data['Class']"
   ]
  },
  {
   "cell_type": "code",
   "execution_count": 10,
   "id": "e2f590ea",
   "metadata": {},
   "outputs": [],
   "source": [
    "X_train, X_test, y_train, y_test = train_test_split(X, y, test_size=0.2, random_state=42)"
   ]
  },
  {
   "cell_type": "markdown",
   "id": "8be47d2e",
   "metadata": {},
   "source": [
    "### Dimensionality Reduction - Feature Selection"
   ]
  },
  {
   "cell_type": "code",
   "execution_count": 12,
   "id": "8a03867d",
   "metadata": {},
   "outputs": [],
   "source": [
    "# Step 1: Standardize the features\n",
    "scaler = StandardScaler()\n",
    "X_train_scaled = scaler.fit_transform(X_train)\n",
    "X_test_scaled = scaler.transform(X_test)"
   ]
  },
  {
   "cell_type": "code",
   "execution_count": null,
   "id": "20d045f7",
   "metadata": {},
   "outputs": [],
   "source": [
    "# Step 2: Train a Random Forest model to obtain feature importances\n",
    "rf_model = RandomForestClassifier(n_estimators=100, random_state=42)\n",
    "rf_model.fit(X_train_scaled, y_train)"
   ]
  },
  {
   "cell_type": "code",
   "execution_count": null,
   "id": "4f183bea",
   "metadata": {},
   "outputs": [],
   "source": [
    "# Step 3: Print feature importances\n",
    "feature_importances = rf_model.feature_importances_\n",
    "print(\"Feature Importances:\")\n",
    "print(feature_importances)\n",
    "# Step 4: Plot a scree plot\n",
    "plt.figure(figsize=(8, 6))\n",
    "plt.plot(sorted(feature_importances, reverse=True), marker='o', linestyle='-', color='b')\n",
    "plt.title('Scree Plot of Feature Importances')\n",
    "plt.xlabel('Features (sorted by importance)')\n",
    "plt.ylabel('Importance Score')\n",
    "plt.grid(True)\n",
    "plt.show()"
   ]
  },
  {
   "cell_type": "code",
   "execution_count": null,
   "id": "703822ca",
   "metadata": {},
   "outputs": [],
   "source": [
    "threshold = np.sort(feature_importances)[-10]\n",
    "sfm = SelectFromModel(rf_model, threshold=threshold)\n",
    "X_train_selected = sfm.fit_transform(X_train_scaled, y_train)\n",
    "X_test_selected = sfm.transform(X_test_scaled)"
   ]
  },
  {
   "cell_type": "code",
   "execution_count": null,
   "id": "3be971ae",
   "metadata": {},
   "outputs": [],
   "source": [
    "selected_feature_names = X.columns[sfm.get_support()]\n",
    "\n",
    "print(\"Selected Feature Names:\", selected_feature_names)"
   ]
  },
  {
   "cell_type": "markdown",
   "id": "6b1585a4",
   "metadata": {},
   "source": [
    "### Checking the performance of Feature Selection Dataset on Baseline Model"
   ]
  },
  {
   "cell_type": "code",
   "execution_count": null,
   "id": "e794c193",
   "metadata": {},
   "outputs": [],
   "source": [
    "from sklearn.linear_model import LogisticRegression"
   ]
  },
  {
   "cell_type": "code",
   "execution_count": null,
   "id": "d075d91e",
   "metadata": {},
   "outputs": [],
   "source": [
    "log_reg_model1 = LogisticRegression(max_iter=1000)\n",
    "log_reg_model1.fit(X_train_selected,y_train)"
   ]
  },
  {
   "cell_type": "code",
   "execution_count": null,
   "id": "76882d91",
   "metadata": {},
   "outputs": [],
   "source": [
    "log_reg_pred = log_reg_model1.predict(X_test_selected)\n",
    "get_metrics(y_test,log_reg_pred)"
   ]
  },
  {
   "cell_type": "markdown",
   "id": "1900b9b6",
   "metadata": {},
   "source": [
    "### Dimensionality Reduction - PCA"
   ]
  },
  {
   "cell_type": "code",
   "execution_count": null,
   "id": "d1b15474",
   "metadata": {},
   "outputs": [],
   "source": [
    "scaler = StandardScaler()\n",
    "X_standardized = scaler.fit_transform(X)"
   ]
  },
  {
   "cell_type": "code",
   "execution_count": null,
   "id": "33af1cfb",
   "metadata": {},
   "outputs": [],
   "source": [
    "pca = PCA()\n",
    "X_pca = pca.fit_transform(X_standardized)"
   ]
  },
  {
   "cell_type": "code",
   "execution_count": null,
   "id": "b52129a2",
   "metadata": {},
   "outputs": [],
   "source": [
    "cumulative_variance_ratio = np.cumsum(pca.explained_variance_ratio_)\n",
    "\n",
    "# Create an elbow plot\n",
    "plt.figure(figsize=(10, 6))\n",
    "plt.plot(range(1, len(cumulative_variance_ratio) + 1), cumulative_variance_ratio, marker='o', linestyle='-', color='b')\n",
    "plt.title('Elbow Plot for PCA')\n",
    "plt.xlabel('Number of Principal Components')\n",
    "plt.ylabel('Cumulative Explained Variance Ratio')\n",
    "plt.grid(True)\n",
    "plt.show()"
   ]
  },
  {
   "cell_type": "code",
   "execution_count": null,
   "id": "61b07c1c",
   "metadata": {},
   "outputs": [],
   "source": [
    "k = 17\n",
    "X_pca_selected = X_pca[:, :k]\n",
    "\n",
    "# Optionally, you can analyze the explained variance to understand how much information is retained\n",
    "explained_variance_ratio = pca.explained_variance_ratio_\n",
    "cumulative_variance_ratio = np.cumsum(explained_variance_ratio)\n",
    "print(\"Explained Variance Ratio:\", explained_variance_ratio)\n",
    "print(f\"Cumulative Explained Variance (k={k}): {cumulative_variance_ratio[k-1]:.4f}\")\n",
    "\n",
    "# Create a DataFrame with the principal components\n",
    "columns = [f\"PC{i+1}\" for i in range(k)]\n",
    "df_pca = pd.DataFrame(data=X_pca_selected, columns=columns)"
   ]
  },
  {
   "cell_type": "code",
   "execution_count": null,
   "id": "f11c13c0",
   "metadata": {},
   "outputs": [],
   "source": [
    "X_train_pca, X_test_pca, y_train_pca, y_test_pca = train_test_split(df_pca, y, test_size=0.2, random_state=42)"
   ]
  },
  {
   "cell_type": "markdown",
   "id": "03f12113",
   "metadata": {},
   "source": [
    "### Checking the performance of PCA Dataset on Baseline Model"
   ]
  },
  {
   "cell_type": "code",
   "execution_count": null,
   "id": "f7b43875",
   "metadata": {},
   "outputs": [],
   "source": [
    "log_reg_model2 = LogisticRegression(max_iter=1000)\n",
    "log_reg_model2.fit(X_train_pca,y_train)"
   ]
  },
  {
   "cell_type": "code",
   "execution_count": null,
   "id": "079efe10",
   "metadata": {},
   "outputs": [],
   "source": [
    "log_reg_pred2 = log_reg_model2.predict(X_test_pca)\n",
    "get_metrics(y_test_pca,log_reg_pred2)"
   ]
  },
  {
   "cell_type": "markdown",
   "id": "f172bb27",
   "metadata": {},
   "source": [
    "### Independence testing of \"Amount\" Column"
   ]
  },
  {
   "cell_type": "code",
   "execution_count": null,
   "id": "b28e056c",
   "metadata": {},
   "outputs": [],
   "source": [
    "fraud_amounts = credit_data.loc[credit_data['Class'] == 1, 'Amount']\n",
    "non_fraud_amounts = credit_data.loc[credit_data['Class'] == 0, 'Amount']"
   ]
  },
  {
   "cell_type": "code",
   "execution_count": null,
   "id": "f91c78df",
   "metadata": {},
   "outputs": [],
   "source": [
    "statistic, p_value = stats.mannwhitneyu(fraud_amounts, non_fraud_amounts)\n",
    "\n",
    "alpha = 0.05\n",
    "\n",
    "print(\"Mann-Whitney U Statistic:\", statistic)\n",
    "print(\"P-value:\", p_value)\n",
    "\n",
    "if p_value < alpha:\n",
    "    print(\"Reject the null hypothesis. There is a significant difference in amounts between fraud and non-fraud transactions.\")\n",
    "else:\n",
    "    print(\"Fail to reject the null hypothesis. There is no significant difference in amounts between fraud and non-fraud transactions.\")"
   ]
  },
  {
   "cell_type": "code",
   "execution_count": null,
   "id": "c76619b6",
   "metadata": {},
   "outputs": [],
   "source": [
    "fig, (ax1, ax2) = plt.subplots(1, 2, figsize=(12, 6))\n",
    "\n",
    "# Plot for Fraud Transactions\n",
    "sns.histplot(fraud_amounts, bins=30, kde=False, color='red', ax=ax1)\n",
    "ax1.set_xlabel('Amount')\n",
    "ax1.set_ylabel('Count')\n",
    "ax1.set_title('Distribution of Amounts for Fraud Transactions')\n",
    "\n",
    "# Plot for Non-Fraud Transactions\n",
    "sns.histplot(non_fraud_amounts, bins=30, kde=False, color='blue', ax=ax2)\n",
    "ax2.set_xlabel('Amount')\n",
    "ax2.set_ylabel('Count')\n",
    "ax2.set_title('Distribution of Amounts for Non-Fraud Transactions')\n",
    "\n",
    "plt.tight_layout()\n",
    "\n",
    "plt.show()"
   ]
  },
  {
   "cell_type": "markdown",
   "id": "689b33a2",
   "metadata": {},
   "source": [
    "## Classification Models"
   ]
  },
  {
   "cell_type": "markdown",
   "id": "a9d42ea2",
   "metadata": {},
   "source": [
    "### Logistic Regression"
   ]
  },
  {
   "cell_type": "markdown",
   "id": "852aec44",
   "metadata": {},
   "source": [
    "### K-Nearest Neighbours"
   ]
  },
  {
   "cell_type": "code",
   "execution_count": null,
   "id": "4f087181",
   "metadata": {},
   "outputs": [],
   "source": [
    "KNN_model = KNeighborsClassifier(n_neighbors=10)"
   ]
  },
  {
   "cell_type": "code",
   "execution_count": null,
   "id": "85f852e0",
   "metadata": {},
   "outputs": [],
   "source": [
    "KNN_model.fit(X_train_selected,y_train)"
   ]
  },
  {
   "cell_type": "code",
   "execution_count": null,
   "id": "c5639a65",
   "metadata": {},
   "outputs": [],
   "source": [
    "KNN_pred = KNN_model.predict(X_test_selected)\n",
    "get_metrics(y_test,KNN_pred)"
   ]
  },
  {
   "cell_type": "markdown",
   "id": "857cd0e1",
   "metadata": {},
   "source": [
    "### Random-Forest Classifier"
   ]
  },
  {
   "cell_type": "code",
   "execution_count": null,
   "id": "4b55d99a",
   "metadata": {},
   "outputs": [],
   "source": [
    "RF_classifier = RandomForestClassifier(n_estimators=100, random_state=42)  # Replace with your chosen classifier\n",
    "RF_classifier.fit(X_train_selected, y_train)\n",
    "RF_pred = RF_classifier.predict(X_test_selected)\n",
    "get_metrics(y_test,RF_pred)"
   ]
  },
  {
   "cell_type": "code",
   "execution_count": null,
   "id": "3aaa2f96",
   "metadata": {},
   "outputs": [],
   "source": [
    "# Save X_train_selected to CSV\n",
    "X_train_selected_df.to_csv('X_train_selected.csv', index=False)\n",
    "\n",
    "# Save X_test_selected to CSV\n",
    "X_test_selected_df.to_csv('X_test_selected.csv', index=False)\n",
    "\n",
    "# Save y_train to CSV\n",
    "y_train.to_csv('y_train.csv', index=False, header=['Class'])  # Assuming 'Class' is the column name\n",
    "\n",
    "# Save y_test to CSV\n",
    "y_test.to_csv('y_test.csv', index=False, header=['Class']) "
   ]
  },
  {
   "cell_type": "code",
   "execution_count": null,
   "id": "ee1d1391",
   "metadata": {},
   "outputs": [],
   "source": [
    "X_train_selected_df = pd.DataFrame(X_train_selected, columns=['V2', 'V3', 'V4', 'V7', 'V10', 'V11', 'V12', 'V14', 'V16', 'V17'])  # Replace with actual feature names\n",
    "X_test_selected_df = pd.DataFrame(X_test_selected, columns=['V2', 'V3', 'V4', 'V7', 'V10', 'V11', 'V12', 'V14', 'V16', 'V17'])  # Replace with actual feature names\n",
    "y_train_df = pd.DataFrame({'Class': y_train})\n",
    "y_test_df = pd.DataFrame({'Class': y_test})"
   ]
  },
  {
   "cell_type": "markdown",
   "id": "333df36b",
   "metadata": {},
   "source": [
    "## Anomaly Detection"
   ]
  },
  {
   "cell_type": "markdown",
   "id": "5f639f6c",
   "metadata": {},
   "source": [
    "<h3>Extracting the non-fraud data "
   ]
  },
  {
   "cell_type": "code",
   "execution_count": null,
   "id": "3c454657",
   "metadata": {},
   "outputs": [],
   "source": [
    "x_train = pd.concat([X_train_selected,y_train], axis=1)\n",
    "x_train"
   ]
  },
  {
   "cell_type": "code",
   "execution_count": null,
   "id": "5ade14e9",
   "metadata": {},
   "outputs": [],
   "source": [
    "non_fraud_train = x_train[x_train['Class']==0]\n",
    "non_fraud_train"
   ]
  },
  {
   "cell_type": "code",
   "execution_count": null,
   "id": "469e3faf",
   "metadata": {},
   "outputs": [],
   "source": [
    "x_non_fraud_train = non_fraud_train.iloc[:, :-1]"
   ]
  },
  {
   "cell_type": "code",
   "execution_count": null,
   "id": "25863d96",
   "metadata": {},
   "outputs": [],
   "source": [
    "x_non_fraud_train"
   ]
  },
  {
   "cell_type": "markdown",
   "id": "d2a500cc",
   "metadata": {},
   "source": [
    "<h3>Isolation Forest Model"
   ]
  },
  {
   "cell_type": "code",
   "execution_count": null,
   "id": "731c6663",
   "metadata": {},
   "outputs": [],
   "source": [
    "# Train Isolation Forest on non-fraud data\n",
    "isolation_forest = IsolationForest(contamination='auto') \n",
    "isolation_forest.fit(x_non_fraud_train)"
   ]
  },
  {
   "cell_type": "code",
   "execution_count": null,
   "id": "e9073cac",
   "metadata": {},
   "outputs": [],
   "source": [
    "y_test_predict = isolation_forest.predict(X_test_selected)"
   ]
  },
  {
   "cell_type": "code",
   "execution_count": null,
   "id": "5f1cd574",
   "metadata": {},
   "outputs": [],
   "source": [
    "set(y_test_predict)"
   ]
  },
  {
   "cell_type": "code",
   "execution_count": null,
   "id": "10eae7c6",
   "metadata": {},
   "outputs": [],
   "source": [
    "y_test_predict = np.where(y_test_predict == -1, 1, 0)"
   ]
  },
  {
   "cell_type": "code",
   "execution_count": null,
   "id": "3343d1b3",
   "metadata": {},
   "outputs": [],
   "source": [
    "y_test_predict"
   ]
  },
  {
   "cell_type": "code",
   "execution_count": null,
   "id": "bfc76a71",
   "metadata": {},
   "outputs": [],
   "source": [
    "y_test_predict = pd.DataFrame(y_test_predict, columns=['Class'])"
   ]
  },
  {
   "cell_type": "code",
   "execution_count": null,
   "id": "a255a1ed",
   "metadata": {},
   "outputs": [],
   "source": [
    "get_metrics(y_test,y_test_predict)"
   ]
  },
  {
   "cell_type": "markdown",
   "id": "48effe12",
   "metadata": {},
   "source": [
    "## Hybrid Model"
   ]
  },
  {
   "cell_type": "code",
   "execution_count": null,
   "id": "5f484a01",
   "metadata": {},
   "outputs": [],
   "source": [
    "classifier = RandomForestClassifier()\n",
    "classifier_pipeline = Pipeline([ # Optional: Standardize features if needed\n",
    "    ('classifier', classifier)\n",
    "])"
   ]
  },
  {
   "cell_type": "code",
   "execution_count": null,
   "id": "96899c57",
   "metadata": {},
   "outputs": [],
   "source": [
    "classifier_pipeline.fit(X_train_selected, y_train)\n",
    "X_train_class_output = classifier_pipeline.predict_proba(X_train_selected)[:, 1]  # Use probability of positive class\n",
    "X_test_class_output = classifier_pipeline.predict_proba(X_test_selected)[:, 1]"
   ]
  },
  {
   "cell_type": "code",
   "execution_count": null,
   "id": "0da46f01",
   "metadata": {},
   "outputs": [],
   "source": [
    "unique_values, counts = np.unique(X_train_class_output, return_counts=True)\n",
    "\n",
    "value_counts_dict = dict(zip(unique_values, counts))\n",
    "\n",
    "print(\"Value Counts:\")\n",
    "print(value_counts_dict)"
   ]
  },
  {
   "cell_type": "code",
   "execution_count": null,
   "id": "0af44aae",
   "metadata": {},
   "outputs": [],
   "source": [
    "anomaly_detector = OneClassSVM(nu=0.05)\n",
    "anomaly_detector.fit(X_train_class_output.reshape(-1, 1))"
   ]
  },
  {
   "cell_type": "code",
   "execution_count": null,
   "id": "8a3bd596",
   "metadata": {},
   "outputs": [],
   "source": [
    "X_test_anomaly_output = anomaly_detector.predict(X_test_class_output.reshape(-1, 1))"
   ]
  },
  {
   "cell_type": "code",
   "execution_count": null,
   "id": "540b0e2b",
   "metadata": {},
   "outputs": [],
   "source": [
    "np.unique(X_test_anomaly_output)"
   ]
  },
  {
   "cell_type": "code",
   "execution_count": null,
   "id": "25aa55f5",
   "metadata": {},
   "outputs": [],
   "source": [
    "final_predictions = (X_test_anomaly_output == -1).astype(int)"
   ]
  },
  {
   "cell_type": "code",
   "execution_count": null,
   "id": "98e642a0",
   "metadata": {},
   "outputs": [],
   "source": [
    "get_metrics(y_test,final_predictions)"
   ]
  }
 ],
 "metadata": {
  "kernelspec": {
   "display_name": "Python 3 (ipykernel)",
   "language": "python",
   "name": "python3"
  },
  "language_info": {
   "codemirror_mode": {
    "name": "ipython",
    "version": 3
   },
   "file_extension": ".py",
   "mimetype": "text/x-python",
   "name": "python",
   "nbconvert_exporter": "python",
   "pygments_lexer": "ipython3",
   "version": "3.9.18"
  }
 },
 "nbformat": 4,
 "nbformat_minor": 5
}
